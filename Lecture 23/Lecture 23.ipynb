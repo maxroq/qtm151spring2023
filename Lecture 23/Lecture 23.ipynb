{
 "cells": [
  {
   "attachments": {},
   "cell_type": "markdown",
   "metadata": {},
   "source": [
    "# <span style=\"color:darkblue\"> Lecture 23 - Practicing Time and Plots  </span>\n",
    "\n",
    "<font size = \"5\">\n",
    "\n",
    "In  this lecture we will practice working with time in Python\n",
    "\n",
    "- There will be a quiz on this lecture\n"
   ]
  },
  {
   "attachments": {},
   "cell_type": "markdown",
   "metadata": {},
   "source": [
    "# <span style=\"color:darkblue\"> I. Review of time commands </span>\n",
    "\n",
    "<font size = \"5\">\n",
    "\n",
    "Line plot: $\\qquad \\qquad \\qquad \\quad \\ $ ``` plt.plot() ```\n",
    "\n",
    "Parse string column to date: $\\ $``` pd.to_datetime(data_column,format)```\n",
    "\n",
    "Date to string:  $\\qquad \\qquad \\quad \\ $ ```.dt.strftime(format)```\n",
    "\n",
    "Group by time period:\n",
    "$\\qquad \\ \\ $ ``` pd.Grouper(key='date', freq='m')```\n",
    "\n",
    "Include group as column: $\\quad$ ```.reset_index()```\n",
    "\n",
    "Difference between periods: $\\ $``` .diff() ```\n",
    "\n",
    "Lag a periods: $\\qquad \\qquad \\quad \\ $ ``` .shift(1) ```\n",
    "\n",
    "Between two periods (bool): $\\ $ ```.between(\"date1\",\"date2\")```\n",
    "\n",
    "Convert wide to long: $\\qquad \\quad $ ``` pd.melt(...) ```\n",
    "\n",
    "Convert long to wide: $\\qquad \\quad $ ``` pd.pivot(...) ```"
   ]
  },
  {
   "attachments": {},
   "cell_type": "markdown",
   "metadata": {},
   "source": [
    "## <span style=\"color:darkblue\"> II. Quiz Structure </span>\n",
    "\n",
    "<font size = \"5\">\n",
    "\n",
    "The day of the quiz I will ...\n",
    "- Provide a dataset with information\n",
    "- Give more specific instructions.\n",
    "- Below, you will see the type of questions that will be asked.\n",
    "- The idea is for you to apply known concepts to new data\n",
    "- You have 50 minutes to complete the assignment\n",
    "\n",
    "Questions\n",
    "\n",
    "(exact wording may change in quiz, but exercise will be very similar)\n",
    "\n",
    "The quiz will use a time series dataset\n"
   ]
  },
  {
   "attachments": {},
   "cell_type": "markdown",
   "metadata": {},
   "source": [
    "\n",
    "<font size = \"5\">\n",
    "\n",
    "(a) Import a dataset, parse date column using wildcards <br>\n",
    "$\\quad$ (see Lecture 21), and sort dataset\n",
    "\n",
    "(b) Line plots from multiple columns with a legend\n",
    "\n",
    "(c) Compute growth rates for a time series\n",
    "\n",
    "(d) Flag a subset of the data and produce a shaded plot <br>\n",
    "$\\quad$ as in Lecture 22\n",
    "\n",
    "(e) Compute aggregate dataset by time period\n",
    "\n",
    "(f) Convert a dataset to long format\n"
   ]
  },
  {
   "cell_type": "code",
   "execution_count": null,
   "metadata": {},
   "outputs": [],
   "source": [
    "#a LECTURE 21\n",
    "financial[\"month_str\"] = financial[\"date\"].dt.strftime(\"%m\")\n",
    "financial[\"week_str\"]  = financial[\"date\"].dt.strftime(\"%W\")"
   ]
  },
  {
   "cell_type": "code",
   "execution_count": null,
   "metadata": {},
   "outputs": [],
   "source": [
    "#b LECTURE 22\n",
    "financial[[\"date\",\"sp500\",\"djia\"]].set_index(\"date\").plot()\n",
    "plt.xlabel(\"Time\")\n",
    "plt.ylabel(\"Value of Index Funds\")\n",
    "plt.legend([\"S&P 500\",\"Dow Jones\"])"
   ]
  },
  {
   "cell_type": "code",
   "execution_count": null,
   "metadata": {},
   "outputs": [],
   "source": [
    "#c LECTURE 22\n",
    "financial[\"lag_sp500\"]    = financial[\"sp500\"].shift(1)\n",
    "financial[\"growth_sp500\"] = financial[\"diff_sp500\"]* 100/financial[\"lag_sp500\"]"
   ]
  },
  {
   "cell_type": "code",
   "execution_count": null,
   "metadata": {},
   "outputs": [],
   "source": [
    "#d LECTURE 22\n",
    "financial[\"bool_djia\"] = (financial[\"growth_djia\"] > 4) | (financial[\"growth_djia\"] < -4)\n",
    "\n",
    "# Create a line plot\n",
    "plt.plot(\"date\", \"growth_djia\", data = financial)\n",
    "plt.xlabel(\"Time\")\n",
    "plt.ylabel(\"Daily percentage change \")\n",
    "plt.title(\"Periods of extreme Dow Jones Fluctuations\")\n",
    "\n",
    "# Add shaded region\n",
    "vec_y = financial[\"growth_djia\"]\n",
    "plt.fill_between(x= financial[\"date\"],\n",
    "                 y1 = vec_y.min(),\n",
    "                 y2 = vec_y.max(),\n",
    "                 where = financial[\"bool_djia\"],\n",
    "                 alpha = 0.2,color = \"red\")\n",
    "\n",
    "plt.show()"
   ]
  },
  {
   "cell_type": "code",
   "execution_count": null,
   "metadata": {},
   "outputs": [],
   "source": [
    "#e LECTURE 21\n",
    "# Group on the period column\n",
    "# We use a wrapper () to split the command into multiple lines\n",
    "# The \".reset_index()\" option ensures that the grouper is\n",
    "# converted to a column. This is important for plotting.\n",
    "# There's a lot of options to \n",
    "\n",
    "monthlydata = (financial\n",
    "               .groupby(month_config) \n",
    "               .agg(sp500_mean = (\"sp500\",\"mean\"))\n",
    "               .reset_index())"
   ]
  },
  {
   "cell_type": "code",
   "execution_count": null,
   "metadata": {},
   "outputs": [],
   "source": [
    "#f LECTURE 22\n",
    "# Note: You can give any custom value to \"var_name\" or \"value_name\"\n",
    "\n",
    "financial_long = pd.melt(financial,\n",
    "                         var_name   = \"series\",\n",
    "                         value_name = \"daily_growth\",\n",
    "                         id_vars='date',\n",
    "                         value_vars=['growth_sp500','growth_djia'])\n",
    "\n",
    "display(financial_long)"
   ]
  }
 ],
 "metadata": {
  "kernelspec": {
   "display_name": "base",
   "language": "python",
   "name": "python3"
  },
  "language_info": {
   "codemirror_mode": {
    "name": "ipython",
    "version": 3
   },
   "file_extension": ".py",
   "mimetype": "text/x-python",
   "name": "python",
   "nbconvert_exporter": "python",
   "pygments_lexer": "ipython3",
   "version": "3.9.13"
  },
  "orig_nbformat": 4
 },
 "nbformat": 4,
 "nbformat_minor": 2
}
